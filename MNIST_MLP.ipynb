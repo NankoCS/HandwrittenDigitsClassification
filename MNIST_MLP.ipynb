{
 "cells": [
  {
   "cell_type": "code",
   "execution_count": 1,
   "metadata": {},
   "outputs": [],
   "source": [
    "import numpy as np\n",
    "import matplotlib.pyplot as plt\n",
    "from tensorflow import keras\n",
    "import tensorflow as tf\n",
    "from tensorflow.keras import layers"
   ]
  },
  {
   "cell_type": "code",
   "execution_count": 2,
   "metadata": {},
   "outputs": [
    {
     "name": "stdout",
     "output_type": "stream",
     "text": [
      "x_train shape: (60000, 28, 28)\n",
      "60000 train samples\n",
      "10000 test samples\n",
      "y_train shape: (60000,)\n",
      "5\n"
     ]
    }
   ],
   "source": [
    "# Model / data parameters\n",
    "num_classes = 10\n",
    "input_shape = (28, 28)\n",
    "\n",
    "# the data, split between train and test sets\n",
    "\n",
    "(x_train, y_train), (x_test, y_test) = keras.datasets.mnist.load_data()\n",
    "\n",
    "\n",
    "x_train = keras.utils.normalize(x_train, axis = 1)\n",
    "x_test = keras.utils.normalize(x_test, axis = 1)\n",
    "\n",
    "\n",
    "print(\"x_train shape:\", x_train.shape)\n",
    "print(x_train.shape[0], \"train samples\")\n",
    "print(x_test.shape[0], \"test samples\")\n",
    "print(\"y_train shape:\", y_train.shape)\n",
    "print(y_train[0])\n",
    "\n",
    "\n",
    "# convert class vectors to binary class matrices\n",
    "y_train = keras.utils.to_categorical(y_train, num_classes)\n",
    "y_test = keras.utils.to_categorical(y_test, num_classes)"
   ]
  },
  {
   "cell_type": "code",
   "execution_count": 3,
   "metadata": {},
   "outputs": [
    {
     "name": "stdout",
     "output_type": "stream",
     "text": [
      "[[0. 0. 0. ... 0. 0. 0.]\n",
      " [1. 0. 0. ... 0. 0. 0.]\n",
      " [0. 0. 0. ... 0. 0. 0.]\n",
      " ...\n",
      " [0. 0. 0. ... 0. 0. 0.]\n",
      " [0. 0. 0. ... 0. 0. 0.]\n",
      " [0. 0. 0. ... 0. 1. 0.]]\n"
     ]
    }
   ],
   "source": [
    "print(y_train)"
   ]
  },
  {
   "cell_type": "code",
   "execution_count": 4,
   "metadata": {},
   "outputs": [
    {
     "name": "stdout",
     "output_type": "stream",
     "text": [
      "Model: \"sequential\"\n",
      "_________________________________________________________________\n",
      " Layer (type)                Output Shape              Param #   \n",
      "=================================================================\n",
      " flatten (Flatten)           (None, 784)               0         \n",
      "                                                                 \n",
      " dense (Dense)               (None, 100)               78500     \n",
      "                                                                 \n",
      " dense_1 (Dense)             (None, 100)               10100     \n",
      "                                                                 \n",
      " dense_2 (Dense)             (None, 10)                1010      \n",
      "                                                                 \n",
      "=================================================================\n",
      "Total params: 89,610\n",
      "Trainable params: 89,610\n",
      "Non-trainable params: 0\n",
      "_________________________________________________________________\n"
     ]
    }
   ],
   "source": [
    "# Define our model\n",
    "model = keras.Sequential()\n",
    "\n",
    "model.add(layers.Flatten(input_shape=input_shape))\n",
    "\n",
    "model.add(layers.Dense(units = 100, activation = \"relu\"))\n",
    "\n",
    "model.add(layers.Dense(units = 100, activation = \"relu\"))\n",
    "\n",
    "model.add(layers.Dense(units = 10, activation = \"softmax\"))\n",
    "\n",
    "model.build(input_shape)\n",
    "model.summary()"
   ]
  },
  {
   "cell_type": "code",
   "execution_count": null,
   "metadata": {},
   "outputs": [],
   "source": [
    "import keras.backend as K\n",
    "\n",
    "# defining a new metric that will be displayed during the fitting\n",
    "def f1_metric(y_true, y_pred):\n",
    "    true_positives = K.sum(K.round(K.clip(y_true * y_pred, 0, 1)))\n",
    "    possible_positives = K.sum(K.round(K.clip(y_true, 0, 1)))\n",
    "    predicted_positives = K.sum(K.round(K.clip(y_pred, 0, 1)))\n",
    "    precision = true_positives / (predicted_positives + K.epsilon())\n",
    "    recall = true_positives / (possible_positives + K.epsilon())\n",
    "    f1_val = 2*(precision*recall)/(precision+recall+K.epsilon())\n",
    "    return f1_val\n",
    "\n",
    "\n",
    "batch_size = 128\n",
    "epochs = 30\n",
    "\n",
    "# compiling the model we previously defined\n",
    "model.compile(loss=\"categorical_crossentropy\", optimizer=\"adam\", metrics=[\"accuracy\", f1_metric])\n",
    "\n",
    "# training the model\n",
    "history_adam = model.fit(x_train, y_train, batch_size=batch_size, epochs=epochs, validation_split=0.1)"
   ]
  },
  {
   "cell_type": "code",
   "execution_count": 6,
   "metadata": {},
   "outputs": [],
   "source": [
    "# model.save(\"./models/mlp_mnist\")"
   ]
  },
  {
   "cell_type": "code",
   "execution_count": 7,
   "metadata": {},
   "outputs": [
    {
     "name": "stdout",
     "output_type": "stream",
     "text": [
      "Test loss: 0.1459474414587021\n",
      "Test accuracy: 0.9735999703407288\n"
     ]
    }
   ],
   "source": [
    "# Evaluating the performance of the model on the test set\n",
    "score = model.evaluate(x_test, y_test, verbose=0)\n",
    "print(\"Test loss:\", score[0])\n",
    "print(\"Test accuracy:\", score[1])"
   ]
  },
  {
   "cell_type": "code",
   "execution_count": 8,
   "metadata": {},
   "outputs": [
    {
     "data": {
      "image/png": "[encoded data removed]",
      "text/plain": [
       "<Figure size 432x288 with 1 Axes>"
      ]
     },
     "metadata": {
      "needs_background": "light"
     },
     "output_type": "display_data"
    },
    {
     "data": {
      "image/png": "[encoded data removed]",
      "text/plain": [
       "<Figure size 432x288 with 1 Axes>"
      ]
     },
     "metadata": {
      "needs_background": "light"
     },
     "output_type": "display_data"
    }
   ],
   "source": [
    "# Plotting the evolution of the accuracy, F1 score and loss of the model on the training and dev set throughout the training\n",
    "epochs = [i for i in range(1,31)]\n",
    "epochs_ticks = [i for i in range(1,31) if i%2==0 or i==1]# Accuracy\n",
    "fig1, ax1 = plt.subplots()\n",
    "ax1.set_xticks(epochs_ticks)\n",
    "plt.plot(epochs, history_adam.history[\"accuracy\"])\n",
    "plt.plot(epochs, history_adam.history[\"val_accuracy\"])\n",
    "plt.title(\"Accuracy evolution with an MLP\")\n",
    "plt.ylabel(\"accuracy\")\n",
    "plt.xlabel(\"epochs\")\n",
    "plt.legend([\"train\", \"dev\"], loc = \"upper left\")\n",
    "plt.show()\n",
    "\n",
    "# # F1 Score\n",
    "# fig2, ax2 = plt.subplots()\n",
    "# ax2.set_xticks(epochs_ticks)\n",
    "# plt.plot(epochs, history_adam.history[\"f1_metric\"])\n",
    "# plt.plot(epochs, history_adam.history[\"val_f1_metric\"])\n",
    "# plt.title(\"Model F1 score\")\n",
    "# plt.ylabel(\"F1 Score\")\n",
    "# plt.xlabel(\"epochs\")\n",
    "# plt.legend([\"train\", \"dev\"], loc = \"upper left\")\n",
    "# plt.show()\n",
    "\n",
    "# Loss\n",
    "fig3, ax3 = plt.subplots()\n",
    "ax3.set_xticks(epochs_ticks)\n",
    "plt.plot(epochs, history_adam.history[\"loss\"])\n",
    "plt.plot(epochs, history_adam.history[\"val_loss\"])\n",
    "plt.title(\"Loss evolution with an MLP\")\n",
    "plt.ylabel(\"loss\")\n",
    "plt.xlabel(\"epochs\")\n",
    "plt.legend([\"train\", \"dev\"], loc = \"upper left\")\n",
    "plt.show()"
   ]
  },
  {
   "cell_type": "code",
   "execution_count": 10,
   "metadata": {},
   "outputs": [
    {
     "name": "stdout",
     "output_type": "stream",
     "text": [
      "Before changing the weights and biases\n",
      "Test loss: 0.13589470088481903\n",
      "Test accuracy: 0.9749000072479248\n"
     ]
    }
   ],
   "source": [
    "# Loading a model from a file\n",
    "modelBefore = keras.models.load_model('./models/mlp_mnist', custom_objects={\"f1_metric\":f1_metric})\n",
    "score = modelBefore.evaluate(x_test, y_test, verbose=0)\n",
    "# Evaluating the model to get a baseline before changing the weights and biases after quantizing them\n",
    "print(\"Before changing the weights and biases\")\n",
    "print(\"Test loss:\", score[0])\n",
    "print(\"Test accuracy:\", score[1])"
   ]
  },
  {
   "cell_type": "code",
   "execution_count": 11,
   "metadata": {},
   "outputs": [
    {
     "name": "stdout",
     "output_type": "stream",
     "text": [
      "After changing the weights and biases to float16\n",
      "Test loss: 0.1459474414587021\n",
      "Test accuracy: 0.9735999703407288\n"
     ]
    }
   ],
   "source": [
    "# Defining a function that creates a new model, copies the parameters of a given model\n",
    "# Then, quantizes the parameters of this new model using a precision in bits\n",
    "\n",
    "def change_precision_of_model(model, precision, inputs, labels):\n",
    "    # initializing to an empty array the array we will will set to weights to\n",
    "    tmp_model= keras.models.clone_model(model)\n",
    "    tmp_model.build(input_shape)\n",
    "    tmp_model.compile(loss=\"categorical_crossentropy\", optimizer=\"adam\", metrics=[\"accuracy\", f1_metric])\n",
    "    tmp_model.set_weights(model.get_weights())\n",
    "    \n",
    "    weights_and_biases = []\n",
    "    # print(modelBefore.get_weights()[0][0][0:3])\n",
    "    for i in range(len(tmp_model.get_weights())):\n",
    "        matrix = tmp_model.get_weights()[i]\n",
    "        # pair indexes correspond to the weight matrices and odd indexes correspond to bias matrices\n",
    "        # as bias matrices are only of 1 column and weights matrices have multiple columns, we have to treat them differently\n",
    "        # if biases\n",
    "        if (i+1)%2 == 0:\n",
    "            changedPrecision = np.floor(matrix * 2**precision) / (2**(precision))\n",
    "            weights_and_biases.append(changedPrecision)\n",
    "        # if weights\n",
    "        else:\n",
    "            changed_weights = []\n",
    "            for item in matrix:\n",
    "                changed_item = np.floor(item * 2**precision) / (2**(precision))\n",
    "                changed_weights.append(changed_item)\n",
    "            weights_and_biases.append(np.array(changed_weights))\n",
    "\n",
    "    # change weights to the new ones we computed\n",
    "    tmp_model.set_weights(weights_and_biases)\n",
    "    score = tmp_model.evaluate(inputs, labels, verbose=0)\n",
    "    return score\n",
    "\n",
    "\n",
    "# Evaluating the baseline model\n",
    "score = model.evaluate(x_test, y_test, verbose=0)\n",
    "print(\"After changing the weights and biases to float16\")\n",
    "print(\"Test loss:\", score[0])\n",
    "print(\"Test accuracy:\", score[1])\n"
   ]
  },
  {
   "cell_type": "code",
   "execution_count": 12,
   "metadata": {},
   "outputs": [
    {
     "name": "stdout",
     "output_type": "stream",
     "text": [
      "Loss \t Accuracy \t F1 Score\n",
      "[0.1459474414587021, 0.9735999703407288, 0.9739082455635071]\n",
      "[0.1459474414587021, 0.9735999703407288, 0.9739082455635071]\n",
      "[0.14589567482471466, 0.9735999703407288, 0.9739082455635071]\n",
      "[0.13501060009002686, 0.973800003528595, 0.9740588665008545]\n",
      "[0.8302320241928101, 0.7559999823570251, 0.6522641181945801]\n",
      "[0.1459474414587021, 0.9735999703407288, 0.9739082455635071]\n"
     ]
    }
   ],
   "source": [
    "# Evaluating different models depending on their precision\n",
    "\n",
    "print(\"Loss \\t Accuracy \\t F1 Score\")\n",
    "print(model.evaluate(x_test, y_test, verbose=0))\n",
    "print(change_precision_of_model(model, 32, x_test, y_test))\n",
    "print(change_precision_of_model(model, 16, x_test, y_test))\n",
    "print(change_precision_of_model(model, 8, x_test, y_test))\n",
    "print(change_precision_of_model(model, 4, x_test, y_test))\n",
    "print(change_precision_of_model(model, 32, x_test, y_test))"
   ]
  },
  {
   "cell_type": "code",
   "execution_count": 13,
   "metadata": {},
   "outputs": [],
   "source": [
    "# Defining a function that makes it easier to plot the graphs of a model\n",
    "\n",
    "def make_figures(losses, losses_test, accuracies, accuracies_test, F1_scores, F1_scores_test, loss_fig = True, acc_fig = True, F1_fig = True):\n",
    "    if loss_fig:\n",
    "        precisions = [precision for precision in range(2,34,2)]\n",
    "        precisions.insert(3,7)\n",
    "        print(precisions)\n",
    "        fig, ax = plt.subplots()\n",
    "        plt.plot(precisions, losses)\n",
    "        plt.plot(precisions, losses_test)\n",
    "        plt.title(\"Loss of the Model w/r to the word length\")\n",
    "        plt.ylabel(\"loss\")\n",
    "        plt.xlabel(\"word length\")\n",
    "        plt.legend([\"training set loss\", \"test set loss\"], loc = \"upper right\")\n",
    "        ax.set_xticks(precisions)\n",
    "        plt.show()\n",
    "\n",
    "    if acc_fig:\n",
    "        fig, ax2 = plt.subplots()\n",
    "        plt.plot(precisions, accuracies)\n",
    "        plt.plot(precisions, accuracies_test)\n",
    "        plt.title(\"Accuracy of the Model w/r to the word length\")\n",
    "        plt.ylabel(\"accuracy\")\n",
    "        plt.xlabel(\"word length\")\n",
    "        plt.legend([\"training set accuracy\", \"test set accuracy\"], loc = \"lower right\")\n",
    "        ax2.set_xticks(precisions)\n",
    "        plt.show()\n",
    "\n",
    "    if F1_fig:\n",
    "        fig, ax3 = plt.subplots()\n",
    "        plt.plot(precisions, F1_scores)\n",
    "        plt.plot(precisions, F1_scores_test)\n",
    "        plt.title(\"F1 scores of the Model w/r to the word length\")\n",
    "        plt.ylabel(\"F1 score\")\n",
    "        plt.xlabel(\"word length\")\n",
    "        plt.legend([\"training set F1 score\", \"test set F1 score\"], loc = \"lower right\")\n",
    "        ax3.set_xticks(precisions)\n",
    "        plt.show()"
   ]
  },
  {
   "cell_type": "code",
   "execution_count": 14,
   "metadata": {},
   "outputs": [],
   "source": [
    "# Creating multiples models depending on the precision (ranging from 2 to 32 bits)\n",
    "# Then appending the results of each model to arrays to then plot figures of the results\n",
    "\n",
    "losses = []\n",
    "accuracies = []\n",
    "F1_scores = []\n",
    "losses_test = []\n",
    "accuracies_test = []\n",
    "F1_scores_test = []\n",
    "for precision in range(2,34,2):\n",
    "    # Returns the score of this specific model\n",
    "    score = change_precision_of_model(model, precision, x_train, y_train)\n",
    "    loss = score[0]\n",
    "    accuracy = score[1]\n",
    "    F1_score = score[2]\n",
    "    losses.append(loss), accuracies.append(accuracy), F1_scores.append(F1_score)\n",
    "    # Try returning only model in change precision function that way no need to do it twice, we'll just evaluate on the training then test set\n",
    "    score_test = change_precision_of_model(model, precision, x_test, y_test)\n",
    "    loss_test = score_test[0]\n",
    "    accuracy_test = score_test[1]\n",
    "    F1_score_test = score_test[2]\n",
    "    losses_test.append(loss_test), accuracies_test.append(accuracy_test), F1_scores_test.append(F1_score_test)\n",
    "    if precision == 6:\n",
    "        score = change_precision_of_model(model, 7, x_train, y_train)\n",
    "        loss = score[0]\n",
    "        accuracy = score[1]\n",
    "        F1_score = score[2]\n",
    "        losses.append(loss), accuracies.append(accuracy), F1_scores.append(F1_score)\n",
    "\n",
    "        score_test = change_precision_of_model(model, 7, x_test, y_test)\n",
    "        loss_test = score_test[0]\n",
    "        accuracy_test = score_test[1]\n",
    "        F1_score_test = score_test[2]\n",
    "        losses_test.append(loss_test), accuracies_test.append(accuracy_test), F1_scores_test.append(F1_score_test)\n",
    "        "
   ]
  },
  {
   "cell_type": "code",
   "execution_count": 15,
   "metadata": {},
   "outputs": [
    {
     "name": "stdout",
     "output_type": "stream",
     "text": [
      "[2, 4, 6, 7, 8, 10, 12, 14, 16, 18, 20, 22, 24, 26, 28, 30, 32]\n"
     ]
    },
    {
     "data": {
      "image/png": "[encoded data removed]",
      "text/plain": [
       "<Figure size 432x288 with 1 Axes>"
      ]
     },
     "metadata": {
      "needs_background": "light"
     },
     "output_type": "display_data"
    },
    {
     "data": {
      "image/png": "[encoded data removed]",
      "text/plain": [
       "<Figure size 432x288 with 1 Axes>"
      ]
     },
     "metadata": {
      "needs_background": "light"
     },
     "output_type": "display_data"
    },
    {
     "data": {
      "image/png": "[encoded data removed]",
      "text/plain": [
       "<Figure size 432x288 with 1 Axes>"
      ]
     },
     "metadata": {
      "needs_background": "light"
     },
     "output_type": "display_data"
    }
   ],
   "source": [
    "# Plot figures showing the impact of the word length (precision)\n",
    "# Testing the robustness of a model to parameter quantization\n",
    "\n",
    "make_figures(losses, losses_test, accuracies, accuracies_test, F1_scores, F1_scores_test)"
   ]
  },
  {
   "cell_type": "code",
   "execution_count": 17,
   "metadata": {},
   "outputs": [
    {
     "name": "stdout",
     "output_type": "stream",
     "text": [
      "Before changing the weights and biases\n",
      "Test loss: 0.13589470088481903\n",
      "Test accuracy: 0.9749000072479248\n"
     ]
    }
   ],
   "source": [
    "modelBefore = keras.models.load_model('./models/mlp_mnist', custom_objects={\"f1_metric\":f1_metric})\n",
    "score = modelBefore.evaluate(x_test, y_test, verbose=0)\n",
    "print(\"Before changing the weights and biases\")\n",
    "print(\"Test loss:\", score[0])\n",
    "print(\"Test accuracy:\", score[1])\n",
    "# \n",
    "# Test loss: 0.1115352064371109\n",
    "# Test accuracy: 0.9708999991416931"
   ]
  },
  {
   "cell_type": "code",
   "execution_count": 18,
   "metadata": {},
   "outputs": [],
   "source": [
    "def plotGraphics(history_given, optimizer, max_epoch):\n",
    "    epochs = [epoch for epoch in range(max_epoch+1)]\n",
    "    fig, ax1 = plt.subplots()\n",
    "    plt.plot(history_given.history[\"accuracy\"])\n",
    "    plt.plot(history_given.history[\"val_accuracy\"])\n",
    "    plt.title(\"Model with \" + optimizer +   \": Accuracy\")\n",
    "    plt.ylabel(\"accuracy\")\n",
    "    plt.xlabel(\"epochs\")\n",
    "    plt.legend([\"train\", \"dev\"], loc = \"upper left\")\n",
    "    ax1.set_xticks(epochs)\n",
    "    plt.show()\n",
    "\n",
    "    fig, ax2 = plt.subplots()\n",
    "    plt.plot(history_given.history[\"f1_metric\"])\n",
    "    plt.plot(history_given.history[\"val_f1_metric\"])\n",
    "    plt.title(\"Model F1 score\")\n",
    "    plt.ylabel(\"F1 Score\")\n",
    "    plt.xlabel(\"epochs\")\n",
    "    plt.legend([\"train\", \"dev\"], loc = \"upper left\")\n",
    "    ax2.set_xticks(epochs)\n",
    "    plt.show()\n",
    "\n",
    "    fig, ax3 = plt.subplots()\n",
    "    plt.plot(history_given.history[\"loss\"])\n",
    "    plt.plot(history_given.history[\"val_loss\"])\n",
    "    plt.title(\"Model Loss\")\n",
    "    plt.ylabel(\"Loss\")\n",
    "    plt.xlabel(\"epochs\")\n",
    "    plt.legend([\"train\", \"dev\"], loc = \"upper left\")\n",
    "    ax3.set_xticks(epochs)\n",
    "    plt.show()"
   ]
  },
  {
   "cell_type": "code",
   "execution_count": 19,
   "metadata": {},
   "outputs": [],
   "source": [
    "# plotGraphics(history_gd, \"Gradient Descent\", epochs)\n",
    "# plotGraphics(history_adam, \"Adam\", epochs)\n",
    "# plotGraphics(history_mom, \"Momentum\", epochs)"
   ]
  },
  {
   "cell_type": "code",
   "execution_count": 20,
   "metadata": {},
   "outputs": [
    {
     "name": "stdout",
     "output_type": "stream",
     "text": [
      "Model: \"sequential\"\n",
      "_________________________________________________________________\n",
      " Layer (type)                Output Shape              Param #   \n",
      "=================================================================\n",
      " quantize_layer (QuantizeLay  (None, 28, 28)           3         \n",
      " er)                                                             \n",
      "                                                                 \n",
      " quant_flatten (QuantizeWrap  (None, 784)              1         \n",
      " perV2)                                                          \n",
      "                                                                 \n",
      " quant_dense (QuantizeWrappe  (None, 100)              78505     \n",
      " rV2)                                                            \n",
      "                                                                 \n",
      " quant_dense_1 (QuantizeWrap  (None, 100)              10105     \n",
      " perV2)                                                          \n",
      "                                                                 \n",
      " quant_dense_2 (QuantizeWrap  (None, 10)               1015      \n",
      " perV2)                                                          \n",
      "                                                                 \n",
      "=================================================================\n",
      "Total params: 89,629\n",
      "Trainable params: 89,610\n",
      "Non-trainable params: 19\n",
      "_________________________________________________________________\n"
     ]
    }
   ],
   "source": [
    "# Quantizing our previous model using keras tools\n",
    "# More specifically, using quantization aware as we will fine tune the quantized model later on as we are in possession of the dataset we are working on\n",
    "# Default quantization is to 8-bits integers so this operation lets us reduces the memory used by our model by around 4 (32 bits float to 8bits integers67)\n",
    "\n",
    "import tensorflow_model_optimization as tfmot\n",
    "\n",
    "quantize_model = tfmot.quantization.keras.quantize_model\n",
    "\n",
    "# q_aware stands for for quantization aware.\n",
    "# using the initial model made and fine tuning it\n",
    "q_aware_model = quantize_model(model)\n",
    "\n",
    "# `quantize_model` requires a recompile.\n",
    "q_aware_model.compile(optimizer='adam', loss=tf.keras.losses.CategoricalCrossentropy(from_logits=True), metrics=['accuracy', f1_metric])\n",
    "\n",
    "# Summary to get informations on layers, parameters etc...\n",
    "q_aware_model.summary()"
   ]
  },
  {
   "cell_type": "code",
   "execution_count": null,
   "metadata": {},
   "outputs": [],
   "source": [
    "# Fine tuning our new quantized model using only a portion of the training set we have\n",
    "\n",
    "train_images_subset = x_train[0:10000] # out of 60000\n",
    "train_labels_subset = y_train[0:10000]\n",
    "\n",
    "# quantization-aware model which means we will do fine tuning by training this new model after having changed the weights and baises representation\n",
    "q_aware_model.fit(train_images_subset, train_labels_subset,\n",
    "                  batch_size=128, epochs=4, validation_split=0.1)"
   ]
  },
  {
   "cell_type": "code",
   "execution_count": 22,
   "metadata": {},
   "outputs": [
    {
     "name": "stdout",
     "output_type": "stream",
     "text": [
      "Baseline test accuracy: 0.9735999703407288\n",
      "Quantized test accuracy: 0.9729999899864197\n"
     ]
    }
   ],
   "source": [
    "# Evaluating the performance of our baseline model against the quantized model after fine tuning\n",
    "\n",
    "evaluation_basic_model = model.evaluate(\n",
    "    x_test, y_test, verbose=0)\n",
    "\n",
    "evaluation_q_model = q_aware_model.evaluate(\n",
    "   x_test, y_test, verbose=0)\n",
    "\n",
    "print('Baseline test accuracy:', evaluation_basic_model[1])\n",
    "print('Quantized test accuracy:', evaluation_q_model[1])"
   ]
  }
 ],
 "metadata": {
  "kernelspec": {
   "display_name": "Python 3.10.2 64-bit",
   "language": "python",
   "name": "python3"
  },
  "language_info": {
   "codemirror_mode": {
    "name": "ipython",
    "version": 3
   },
   "file_extension": ".py",
   "mimetype": "text/x-python",
   "name": "python",
   "nbconvert_exporter": "python",
   "pygments_lexer": "ipython3",
   "version": "3.10.2"
  },
  "orig_nbformat": 4,
  "vscode": {
   "interpreter": {
    "hash": "438b8d175c626dc66ab93e1d243ebbf49c1b7127dc5ebb75e5a50a3421acac2b"
   }
  }
 },
 "nbformat": 4,
 "nbformat_minor": 2
}
