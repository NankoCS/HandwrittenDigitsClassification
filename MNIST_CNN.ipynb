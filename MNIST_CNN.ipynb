{
 "cells": [
  {
   "cell_type": "code",
   "execution_count": 1,
   "metadata": {},
   "outputs": [],
   "source": [
    "import numpy as np\n",
    "import matplotlib.pyplot as plt\n",
    "from tensorflow import keras\n",
    "import tensorflow as tf\n",
    "from tensorflow.keras import layers"
   ]
  },
  {
   "cell_type": "code",
   "execution_count": 2,
   "metadata": {},
   "outputs": [
    {
     "name": "stdout",
     "output_type": "stream",
     "text": [
      "x_train shape: (60000, 28, 28, 1)\n",
      "60000 train samples\n",
      "10000 test samples\n"
     ]
    }
   ],
   "source": [
    "# Model / data parameters\n",
    "num_classes = 10\n",
    "input_shape = (28, 28, 1)\n",
    "\n",
    "\n",
    "# the data, split between train and test sets\n",
    "\n",
    "(x_train, y_train), (x_test, y_test) = keras.datasets.mnist.load_data()\n",
    "\n",
    "x_train = keras.utils.normalize(x_train, axis = 1)\n",
    "x_test = keras.utils.normalize(x_test, axis = 1)\n",
    "\n",
    "x_train = np.expand_dims(x_train, -1)\n",
    "x_test = np.expand_dims(x_test, -1)\n",
    "\n",
    "print(\"x_train shape:\", x_train.shape)\n",
    "print(x_train.shape[0], \"train samples\")\n",
    "print(x_test.shape[0], \"test samples\")\n",
    "\n",
    "\n",
    "# convert class vectors to binary class matrices\n",
    "y_train = keras.utils.to_categorical(y_train, num_classes)\n",
    "y_test = keras.utils.to_categorical(y_test, num_classes)"
   ]
  },
  {
   "cell_type": "code",
   "execution_count": 3,
   "metadata": {},
   "outputs": [
    {
     "name": "stdout",
     "output_type": "stream",
     "text": [
      "Model: \"sequential\"\n",
      "_________________________________________________________________\n",
      " Layer (type)                Output Shape              Param #   \n",
      "=================================================================\n",
      " conv2d (Conv2D)             (None, 26, 26, 32)        320       \n",
      "                                                                 \n",
      " max_pooling2d (MaxPooling2D  (None, 13, 13, 32)       0         \n",
      " )                                                               \n",
      "                                                                 \n",
      " conv2d_1 (Conv2D)           (None, 11, 11, 64)        18496     \n",
      "                                                                 \n",
      " max_pooling2d_1 (MaxPooling  (None, 5, 5, 64)         0         \n",
      " 2D)                                                             \n",
      "                                                                 \n",
      " flatten (Flatten)           (None, 1600)              0         \n",
      "                                                                 \n",
      " dropout (Dropout)           (None, 1600)              0         \n",
      "                                                                 \n",
      " dense (Dense)               (None, 10)                16010     \n",
      "                                                                 \n",
      "=================================================================\n",
      "Total params: 34,826\n",
      "Trainable params: 34,826\n",
      "Non-trainable params: 0\n",
      "_________________________________________________________________\n"
     ]
    }
   ],
   "source": [
    "# Define our model\n",
    "model = keras.Sequential()\n",
    "\n",
    "model.add(keras.Input(shape=input_shape))\n",
    "model.add(layers.Conv2D(32, kernel_size=(3, 3), activation=\"relu\"))\n",
    "model.add(layers.MaxPooling2D(pool_size=(2, 2)))\n",
    "model.add(layers.Conv2D(64, kernel_size=(3, 3), activation=\"relu\"))\n",
    "model.add(layers.MaxPooling2D(pool_size=(2, 2)))\n",
    "model.add(layers.Flatten())\n",
    "model.add(layers.Dropout(0.2))\n",
    "model.add(layers.Dense(num_classes, activation=\"softmax\"))\n",
    "\n",
    "model.build(input_shape)\n",
    "model.summary()"
   ]
  },
  {
   "cell_type": "code",
   "execution_count": 4,
   "metadata": {},
   "outputs": [],
   "source": [
    "# trying a different architecture\n",
    "\n",
    "# model = keras.Sequential()\n",
    "\n",
    "# model.add(keras.Input(shape=input_shape))\n",
    "# model.add(layers.Conv2D(1, kernel_size=(3, 3), activation=\"relu\"))\n",
    "# # model.add(layers.MaxPooling2D(pool_size=(2, 2)))\n",
    "# model.add(layers.Conv2D(32, kernel_size=(3, 3), activation=\"relu\"))\n",
    "# model.add(layers.Conv2D(48, kernel_size=(3, 3), activation=\"relu\"))\n",
    "# model.add(layers.Conv2D(64, kernel_size=(3, 3), activation=\"relu\"))\n",
    "# model.add(layers.Conv2D(80, kernel_size=(3, 3), activation=\"relu\"))\n",
    "# model.add(layers.Conv2D(96, kernel_size=(3, 3), activation=\"relu\"))\n",
    "# model.add(layers.Conv2D(112, kernel_size=(3, 3), activation=\"relu\"))\n",
    "# model.add(layers.Conv2D(128, kernel_size=(3, 3), activation=\"relu\"))\n",
    "# model.add(layers.Conv2D(144, kernel_size=(3, 3), activation=\"relu\"))\n",
    "# model.add(layers.Conv2D(160, kernel_size=(3, 3), activation=\"relu\"))\n",
    "# # model.add(layers.MaxPooling2D(pool_size=(2, 2)))\n",
    "# model.add(layers.Flatten())\n",
    "# model.add(layers.Dropout(0.5))\n",
    "# model.add(layers.Dense(num_classes, activation=\"softmax\"))\n",
    "\n",
    "# model.build(input_shape)\n",
    "# model.summary()"
   ]
  },
  {
   "cell_type": "code",
   "execution_count": null,
   "metadata": {},
   "outputs": [],
   "source": [
    "import keras.backend as K\n",
    "\n",
    "def f1_metric(y_true, y_pred):\n",
    "    true_positives = K.sum(K.round(K.clip(y_true * y_pred, 0, 1)))\n",
    "    possible_positives = K.sum(K.round(K.clip(y_true, 0, 1)))\n",
    "    predicted_positives = K.sum(K.round(K.clip(y_pred, 0, 1)))\n",
    "    precision = true_positives / (predicted_positives + K.epsilon())\n",
    "    recall = true_positives / (possible_positives + K.epsilon())\n",
    "    f1_val = 2*(precision*recall)/(precision+recall+K.epsilon())\n",
    "    return f1_val\n",
    "\n",
    "batch_size = 128\n",
    "epochs = 15\n",
    "\n",
    "model.compile(loss=\"categorical_crossentropy\", optimizer=\"adam\", metrics=[\"accuracy\", f1_metric])\n",
    "\n",
    "history_adam = model.fit(x_train, y_train, batch_size=batch_size, epochs=epochs, validation_split=0.1)"
   ]
  },
  {
   "cell_type": "code",
   "execution_count": 6,
   "metadata": {},
   "outputs": [],
   "source": [
    "# model.save(\"./models/cnn_mnist\")"
   ]
  },
  {
   "cell_type": "code",
   "execution_count": 7,
   "metadata": {},
   "outputs": [
    {
     "name": "stdout",
     "output_type": "stream",
     "text": [
      "Test loss: 0.03476301208138466\n",
      "Test accuracy: 0.9894000291824341\n"
     ]
    }
   ],
   "source": [
    "score = model.evaluate(x_test, y_test, verbose=0)\n",
    "print(\"Test loss:\", score[0])\n",
    "print(\"Test accuracy:\", score[1])"
   ]
  },
  {
   "cell_type": "code",
   "execution_count": 8,
   "metadata": {},
   "outputs": [
    {
     "data": {
      "image/png": "[encoded data removed]",
      "text/plain": [
       "<Figure size 432x288 with 1 Axes>"
      ]
     },
     "metadata": {
      "needs_background": "light"
     },
     "output_type": "display_data"
    },
    {
     "data": {
      "image/png": "[encoded data removed]",
      "text/plain": [
       "<Figure size 432x288 with 1 Axes>"
      ]
     },
     "metadata": {
      "needs_background": "light"
     },
     "output_type": "display_data"
    }
   ],
   "source": [
    "epochs = [i for i in range(1,16)]\n",
    "epochs_ticks = [i for i in range(1,16)]\n",
    "# Accuracy\n",
    "fig1, ax1 = plt.subplots()\n",
    "ax1.set_xticks(epochs_ticks)\n",
    "plt.plot(epochs, history_adam.history[\"accuracy\"])\n",
    "plt.plot(epochs, history_adam.history[\"val_accuracy\"])\n",
    "plt.title(\"Accuracy evolution with a CNN\")\n",
    "plt.ylabel(\"accuracy\")\n",
    "plt.xlabel(\"epochs\")\n",
    "plt.legend([\"train\", \"dev\"], loc = \"upper left\")\n",
    "plt.show()\n",
    "\n",
    "# plt.plot(history_adam.history[\"f1_metric\"])\n",
    "# plt.plot(history_adam.history[\"val_f1_metric\"])\n",
    "# plt.title(\"Model F1 score\")\n",
    "# plt.ylabel(\"F1 Score\")\n",
    "# plt.xlabel(\"epochs\")\n",
    "# plt.legend([\"train\", \"dev\"], loc = \"upper left\")\n",
    "# plt.show()\n",
    "\n",
    "# Loss\n",
    "fig3, ax3 = plt.subplots()\n",
    "ax3.set_xticks(epochs_ticks)\n",
    "plt.plot(epochs, history_adam.history[\"loss\"])\n",
    "plt.plot(epochs, history_adam.history[\"val_loss\"])\n",
    "plt.title(\"Loss evolution with an MLP\")\n",
    "plt.ylabel(\"loss\")\n",
    "plt.xlabel(\"epochs\")\n",
    "plt.legend([\"train\", \"dev\"], loc = \"upper left\")\n",
    "plt.show()"
   ]
  },
  {
   "cell_type": "code",
   "execution_count": 11,
   "metadata": {},
   "outputs": [],
   "source": [
    "def plotGraphics(history_given, optimizer):\n",
    "    plt.plot(history_given.history[\"accuracy\"])\n",
    "    plt.plot(history_given.history[\"val_accuracy\"])\n",
    "    plt.title(\"Model with \" + optimizer +   \": Accuracy\")\n",
    "    plt.ylabel(\"accuracy\")\n",
    "    plt.xlabel(\"epochs\")\n",
    "    plt.legend([\"train\", \"dev\"], loc = \"upper left\")\n",
    "    plt.show()\n",
    "\n",
    "    plt.plot(history_given.history[\"f1_metric\"])\n",
    "    plt.plot(history_given.history[\"val_f1_metric\"])\n",
    "    plt.title(\"Model F1 score\")\n",
    "    plt.ylabel(\"F1 Score\")\n",
    "    plt.xlabel(\"epochs\")\n",
    "    plt.legend([\"train\", \"dev\"], loc = \"upper left\")\n",
    "    plt.show()\n",
    "\n",
    "    plt.plot(history_given.history[\"loss\"])\n",
    "    plt.plot(history_given.history[\"val_loss\"])\n",
    "    plt.title(\"Model Loss\")\n",
    "    plt.ylabel(\"Loss\")\n",
    "    plt.xlabel(\"epochs\")\n",
    "    plt.legend([\"train\", \"dev\"], loc = \"upper left\")\n",
    "    plt.show()"
   ]
  },
  {
   "cell_type": "code",
   "execution_count": 12,
   "metadata": {},
   "outputs": [],
   "source": [
    "# plotGraphics(history_gd, \"Gradient Descent\")\n",
    "# plotGraphics(history_adam, \"Adam\")\n",
    "# plotGraphics(history_mom, \"Momentum\")"
   ]
  },
  {
   "cell_type": "code",
   "execution_count": 13,
   "metadata": {},
   "outputs": [
    {
     "name": "stdout",
     "output_type": "stream",
     "text": [
      "Model: \"sequential\"\n",
      "_________________________________________________________________\n",
      " Layer (type)                Output Shape              Param #   \n",
      "=================================================================\n",
      " quantize_layer (QuantizeLay  (None, 28, 28, 1)        3         \n",
      " er)                                                             \n",
      "                                                                 \n",
      " quant_conv2d (QuantizeWrapp  (None, 26, 26, 32)       387       \n",
      " erV2)                                                           \n",
      "                                                                 \n",
      " quant_max_pooling2d (Quanti  (None, 13, 13, 32)       1         \n",
      " zeWrapperV2)                                                    \n",
      "                                                                 \n",
      " quant_conv2d_1 (QuantizeWra  (None, 11, 11, 64)       18627     \n",
      " pperV2)                                                         \n",
      "                                                                 \n",
      " quant_max_pooling2d_1 (Quan  (None, 5, 5, 64)         1         \n",
      " tizeWrapperV2)                                                  \n",
      "                                                                 \n",
      " quant_flatten (QuantizeWrap  (None, 1600)             1         \n",
      " perV2)                                                          \n",
      "                                                                 \n",
      " quant_dropout (QuantizeWrap  (None, 1600)             1         \n",
      " perV2)                                                          \n",
      "                                                                 \n",
      " quant_dense (QuantizeWrappe  (None, 10)               16015     \n",
      " rV2)                                                            \n",
      "                                                                 \n",
      "=================================================================\n",
      "Total params: 35,036\n",
      "Trainable params: 34,826\n",
      "Non-trainable params: 210\n",
      "_________________________________________________________________\n"
     ]
    }
   ],
   "source": [
    "import tensorflow_model_optimization as tfmot\n",
    "\n",
    "quantize_model = tfmot.quantization.keras.quantize_model\n",
    "\n",
    "# q_aware stands for for quantization aware.\n",
    "# using the initial model made and fine tuning it\n",
    "q_aware_model = quantize_model(model)\n",
    "\n",
    "# `quantize_model` requires a recompile.\n",
    "q_aware_model.compile(optimizer='adam',\n",
    "              loss=tf.keras.losses.CategoricalCrossentropy(from_logits=True),\n",
    "              metrics=['accuracy', f1_metric])\n",
    "\n",
    "q_aware_model.summary()"
   ]
  },
  {
   "cell_type": "code",
   "execution_count": null,
   "metadata": {},
   "outputs": [],
   "source": [
    "train_images_subset = x_train[0:10000] # out of 60000\n",
    "train_labels_subset = y_train[0:10000]\n",
    "\n",
    "# quantization-aware model which means we will do fine tuning by training this new model after having changed the weights and baises representation\n",
    "q_aware_model.fit(train_images_subset, train_labels_subset,\n",
    "                  batch_size=128, epochs=5, validation_split=0.1)"
   ]
  },
  {
   "cell_type": "code",
   "execution_count": 15,
   "metadata": {},
   "outputs": [
    {
     "name": "stdout",
     "output_type": "stream",
     "text": [
      "Baseline test accuracy: 0.9894000291824341\n",
      "Quantized test accuracy: 0.9884999990463257\n"
     ]
    }
   ],
   "source": [
    "evaluation_basic_model = model.evaluate(\n",
    "    x_test, y_test, verbose=0)\n",
    "\n",
    "evaluation_q_model = q_aware_model.evaluate(\n",
    "   x_test, y_test, verbose=0)\n",
    "\n",
    "print('Baseline test accuracy:', evaluation_basic_model[1])\n",
    "print('Quantized test accuracy:', evaluation_q_model[1])"
   ]
  }
 ],
 "metadata": {
  "kernelspec": {
   "display_name": "Python 3.10.2 64-bit",
   "language": "python",
   "name": "python3"
  },
  "language_info": {
   "codemirror_mode": {
    "name": "ipython",
    "version": 3
   },
   "file_extension": ".py",
   "mimetype": "text/x-python",
   "name": "python",
   "nbconvert_exporter": "python",
   "pygments_lexer": "ipython3",
   "version": "3.10.2"
  },
  "orig_nbformat": 4,
  "vscode": {
   "interpreter": {
    "hash": "438b8d175c626dc66ab93e1d243ebbf49c1b7127dc5ebb75e5a50a3421acac2b"
   }
  }
 },
 "nbformat": 4,
 "nbformat_minor": 2
}
