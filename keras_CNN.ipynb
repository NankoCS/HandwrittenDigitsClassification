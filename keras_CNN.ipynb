{
 "cells": [
  {
   "cell_type": "code",
   "execution_count": 1,
   "metadata": {},
   "outputs": [],
   "source": [
    "import numpy as np\n",
    "import matplotlib.pyplot as plt\n",
    "from tensorflow import keras\n",
    "import tensorflow as tf\n",
    "from tensorflow.keras import layers"
   ]
  },
  {
   "cell_type": "code",
   "execution_count": 2,
   "metadata": {},
   "outputs": [
    {
     "name": "stdout",
     "output_type": "stream",
     "text": [
      "x_train shape: (60000, 28, 28, 1)\n",
      "60000 train samples\n",
      "10000 test samples\n"
     ]
    }
   ],
   "source": [
    "# Model / data parameters\n",
    "num_classes = 10\n",
    "input_shape = (28, 28, 1)\n",
    "path = './tmp/mnist.npz'\n",
    "# the data, split between train and test sets\n",
    "\n",
    "# with np.load(path, allow_pickle=True) as f:\n",
    "#     x_train, y_train = f['x_train'], f['y_train']\n",
    "#     x_test, y_test = f['x_test'], f['y_test']\n",
    "\n",
    "(x_train, y_train), (x_test, y_test) = keras.datasets.mnist.load_data()\n",
    "\n",
    "# Scale images to the [0, 1] range\n",
    "# x_train = x_train.astype(\"float32\") / 255\n",
    "# x_test = x_test.astype(\"float32\") / 255\n",
    "\n",
    "x_train = keras.utils.normalize(x_train, axis = 1)\n",
    "x_test = keras.utils.normalize(x_test, axis = 1)\n",
    "\n",
    "x_train = np.expand_dims(x_train, -1)\n",
    "x_test = np.expand_dims(x_test, -1)\n",
    "\n",
    "print(\"x_train shape:\", x_train.shape)\n",
    "print(x_train.shape[0], \"train samples\")\n",
    "print(x_test.shape[0], \"test samples\")\n",
    "\n",
    "\n",
    "# convert class vectors to binary class matrices\n",
    "y_train = keras.utils.to_categorical(y_train, num_classes)\n",
    "y_test = keras.utils.to_categorical(y_test, num_classes)"
   ]
  },
  {
   "cell_type": "code",
   "execution_count": 3,
   "metadata": {},
   "outputs": [],
   "source": [
    "# # Model / data parameters\n",
    "# # FOR THE CIFAR DATASET\n",
    "# num_classes = 10\n",
    "# input_shape = (32,32, 3)\n",
    "# path = './tmp/mnist.npz'\n",
    "# # the data, split between train and test sets\n",
    "\n",
    "# # with np.load(path, allow_pickle=True) as f:\n",
    "# #     x_train, y_train = f['x_train'], f['y_train']\n",
    "# #     x_test, y_test = f['x_test'], f['y_test']\n",
    "\n",
    "# (x_train, y_train), (x_test, y_test) = keras.datasets.cifar10.load_data()\n",
    "\n",
    "# # Scale images to the [0, 1] range\n",
    "# # x_train = x_train.astype(\"float32\") / 255\n",
    "# # x_test = x_test.astype(\"float32\") / 255\n",
    "\n",
    "# x_train = keras.utils.normalize(x_train, axis = 1)\n",
    "# x_test = keras.utils.normalize(x_test, axis = 1)\n",
    "\n",
    "# x_train = np.expand_dims(x_train, -1)\n",
    "# x_test = np.expand_dims(x_test, -1)\n",
    "\n",
    "# print(\"x_train shape:\", x_train.shape)\n",
    "# print(x_train.shape[0], \"train samples\")\n",
    "# print(x_test.shape[0], \"test samples\")\n",
    "\n",
    "\n",
    "# # convert class vectors to binary class matrices\n",
    "# # y_train = keras.utils.to_categorical(y_train, num_classes)\n",
    "# # y_test = keras.utils.to_categorical(y_test, num_classes)"
   ]
  },
  {
   "cell_type": "code",
   "execution_count": 12,
   "metadata": {},
   "outputs": [
    {
     "name": "stdout",
     "output_type": "stream",
     "text": [
      "Model: \"sequential_2\"\n",
      "_________________________________________________________________\n",
      " Layer (type)                Output Shape              Param #   \n",
      "=================================================================\n",
      " conv2d_4 (Conv2D)           (None, 26, 26, 32)        320       \n",
      "                                                                 \n",
      " max_pooling2d_4 (MaxPooling  (None, 13, 13, 32)       0         \n",
      " 2D)                                                             \n",
      "                                                                 \n",
      " conv2d_5 (Conv2D)           (None, 11, 11, 64)        18496     \n",
      "                                                                 \n",
      " max_pooling2d_5 (MaxPooling  (None, 5, 5, 64)         0         \n",
      " 2D)                                                             \n",
      "                                                                 \n",
      " flatten_2 (Flatten)         (None, 1600)              0         \n",
      "                                                                 \n",
      " dropout_1 (Dropout)         (None, 1600)              0         \n",
      "                                                                 \n",
      " dense_2 (Dense)             (None, 10)                16010     \n",
      "                                                                 \n",
      "=================================================================\n",
      "Total params: 34,826\n",
      "Trainable params: 34,826\n",
      "Non-trainable params: 0\n",
      "_________________________________________________________________\n"
     ]
    }
   ],
   "source": [
    "# # # policy = keras.mixed_precision.Policy('float16')\n",
    "# # # keras.mixed_precision.set_global_policy(policy)\n",
    "\n",
    "model = keras.Sequential()\n",
    "\n",
    "model.add(keras.Input(shape=input_shape))\n",
    "model.add(layers.Conv2D(32, kernel_size=(3, 3), activation=\"relu\"))\n",
    "model.add(layers.MaxPooling2D(pool_size=(2, 2)))\n",
    "model.add(layers.Conv2D(64, kernel_size=(3, 3), activation=\"relu\"))\n",
    "model.add(layers.MaxPooling2D(pool_size=(2, 2)))\n",
    "model.add(layers.Flatten())\n",
    "model.add(layers.Dropout(0.2))\n",
    "model.add(layers.Dense(num_classes, activation=\"softmax\"))\n",
    "\n",
    "model.build(input_shape)\n",
    "model.summary()"
   ]
  },
  {
   "cell_type": "code",
   "execution_count": 5,
   "metadata": {},
   "outputs": [],
   "source": [
    "# trying a different architecture\n",
    "\n",
    "# model = keras.Sequential()\n",
    "\n",
    "# model.add(keras.Input(shape=input_shape))\n",
    "# model.add(layers.Conv2D(1, kernel_size=(3, 3), activation=\"relu\"))\n",
    "# # model.add(layers.MaxPooling2D(pool_size=(2, 2)))\n",
    "# model.add(layers.Conv2D(32, kernel_size=(3, 3), activation=\"relu\"))\n",
    "# model.add(layers.Conv2D(48, kernel_size=(3, 3), activation=\"relu\"))\n",
    "# model.add(layers.Conv2D(64, kernel_size=(3, 3), activation=\"relu\"))\n",
    "# model.add(layers.Conv2D(80, kernel_size=(3, 3), activation=\"relu\"))\n",
    "# model.add(layers.Conv2D(96, kernel_size=(3, 3), activation=\"relu\"))\n",
    "# model.add(layers.Conv2D(112, kernel_size=(3, 3), activation=\"relu\"))\n",
    "# model.add(layers.Conv2D(128, kernel_size=(3, 3), activation=\"relu\"))\n",
    "# model.add(layers.Conv2D(144, kernel_size=(3, 3), activation=\"relu\"))\n",
    "# model.add(layers.Conv2D(160, kernel_size=(3, 3), activation=\"relu\"))\n",
    "# # model.add(layers.MaxPooling2D(pool_size=(2, 2)))\n",
    "# model.add(layers.Flatten())\n",
    "# model.add(layers.Dropout(0.5))\n",
    "# model.add(layers.Dense(num_classes, activation=\"softmax\"))\n",
    "\n",
    "# model.build(input_shape)\n",
    "# model.summary()"
   ]
  },
  {
   "cell_type": "code",
   "execution_count": 13,
   "metadata": {},
   "outputs": [
    {
     "name": "stdout",
     "output_type": "stream",
     "text": [
      "Epoch 1/15\n",
      "422/422 [==============================] - 9s 20ms/step - loss: 0.3989 - accuracy: 0.8838 - f1_metric: 0.8512 - val_loss: 0.1158 - val_accuracy: 0.9673 - val_f1_metric: 0.9693\n",
      "Epoch 2/15\n",
      "422/422 [==============================] - 8s 20ms/step - loss: 0.1286 - accuracy: 0.9608 - f1_metric: 0.9612 - val_loss: 0.0782 - val_accuracy: 0.9785 - val_f1_metric: 0.9787\n",
      "Epoch 3/15\n",
      "422/422 [==============================] - 8s 20ms/step - loss: 0.0967 - accuracy: 0.9705 - f1_metric: 0.9712 - val_loss: 0.0705 - val_accuracy: 0.9792 - val_f1_metric: 0.9794\n",
      "Epoch 4/15\n",
      "422/422 [==============================] - 8s 20ms/step - loss: 0.0786 - accuracy: 0.9756 - f1_metric: 0.9759 - val_loss: 0.0542 - val_accuracy: 0.9848 - val_f1_metric: 0.9847\n",
      "Epoch 5/15\n",
      "422/422 [==============================] - 8s 20ms/step - loss: 0.0683 - accuracy: 0.9792 - f1_metric: 0.9793 - val_loss: 0.0497 - val_accuracy: 0.9867 - val_f1_metric: 0.9867\n",
      "Epoch 6/15\n",
      "422/422 [==============================] - 8s 20ms/step - loss: 0.0606 - accuracy: 0.9814 - f1_metric: 0.9815 - val_loss: 0.0473 - val_accuracy: 0.9857 - val_f1_metric: 0.9860\n",
      "Epoch 7/15\n",
      "422/422 [==============================] - 8s 20ms/step - loss: 0.0562 - accuracy: 0.9829 - f1_metric: 0.9832 - val_loss: 0.0434 - val_accuracy: 0.9872 - val_f1_metric: 0.9871\n",
      "Epoch 8/15\n",
      "422/422 [==============================] - 8s 20ms/step - loss: 0.0495 - accuracy: 0.9853 - f1_metric: 0.9855 - val_loss: 0.0428 - val_accuracy: 0.9873 - val_f1_metric: 0.9876\n",
      "Epoch 9/15\n",
      "422/422 [==============================] - 8s 20ms/step - loss: 0.0449 - accuracy: 0.9852 - f1_metric: 0.9854 - val_loss: 0.0419 - val_accuracy: 0.9868 - val_f1_metric: 0.9871\n",
      "Epoch 10/15\n",
      "422/422 [==============================] - 8s 20ms/step - loss: 0.0409 - accuracy: 0.9871 - f1_metric: 0.9872 - val_loss: 0.0389 - val_accuracy: 0.9887 - val_f1_metric: 0.9890\n",
      "Epoch 11/15\n",
      "422/422 [==============================] - 8s 20ms/step - loss: 0.0389 - accuracy: 0.9877 - f1_metric: 0.9878 - val_loss: 0.0391 - val_accuracy: 0.9885 - val_f1_metric: 0.9887\n",
      "Epoch 12/15\n",
      "422/422 [==============================] - 8s 20ms/step - loss: 0.0362 - accuracy: 0.9884 - f1_metric: 0.9885 - val_loss: 0.0376 - val_accuracy: 0.9883 - val_f1_metric: 0.9890\n",
      "Epoch 13/15\n",
      "422/422 [==============================] - 9s 20ms/step - loss: 0.0322 - accuracy: 0.9899 - f1_metric: 0.9900 - val_loss: 0.0404 - val_accuracy: 0.9880 - val_f1_metric: 0.9878\n",
      "Epoch 14/15\n",
      "422/422 [==============================] - 8s 20ms/step - loss: 0.0305 - accuracy: 0.9899 - f1_metric: 0.9900 - val_loss: 0.0371 - val_accuracy: 0.9893 - val_f1_metric: 0.9895\n",
      "Epoch 15/15\n",
      "422/422 [==============================] - 9s 20ms/step - loss: 0.0294 - accuracy: 0.9903 - f1_metric: 0.9904 - val_loss: 0.0375 - val_accuracy: 0.9902 - val_f1_metric: 0.9899\n"
     ]
    }
   ],
   "source": [
    "import keras.backend as K\n",
    "\n",
    "def f1_metric(y_true, y_pred):\n",
    "    true_positives = K.sum(K.round(K.clip(y_true * y_pred, 0, 1)))\n",
    "    possible_positives = K.sum(K.round(K.clip(y_true, 0, 1)))\n",
    "    predicted_positives = K.sum(K.round(K.clip(y_pred, 0, 1)))\n",
    "    precision = true_positives / (predicted_positives + K.epsilon())\n",
    "    recall = true_positives / (possible_positives + K.epsilon())\n",
    "    f1_val = 2*(precision*recall)/(precision+recall+K.epsilon())\n",
    "    return f1_val\n",
    "\n",
    "batch_size = 128\n",
    "epochs = 15\n",
    "\n",
    "model.compile(loss=\"categorical_crossentropy\", optimizer=\"adam\", metrics=[\"accuracy\", f1_metric])\n",
    "\n",
    "history_adam = model.fit(x_train, y_train, batch_size=batch_size, epochs=epochs, validation_split=0.1)"
   ]
  },
  {
   "cell_type": "code",
   "execution_count": 14,
   "metadata": {},
   "outputs": [
    {
     "name": "stderr",
     "output_type": "stream",
     "text": [
      "WARNING:absl:Found untraced functions such as _jit_compiled_convolution_op, _jit_compiled_convolution_op while saving (showing 2 of 2). These functions will not be directly callable after loading.\n"
     ]
    },
    {
     "name": "stdout",
     "output_type": "stream",
     "text": [
      "INFO:tensorflow:Assets written to: ./models/cnn_mnist\\assets\n"
     ]
    },
    {
     "name": "stderr",
     "output_type": "stream",
     "text": [
      "INFO:tensorflow:Assets written to: ./models/cnn_mnist\\assets\n"
     ]
    }
   ],
   "source": [
    "model.save(\"./models/cnn_mnist\")"
   ]
  },
  {
   "cell_type": "code",
   "execution_count": 6,
   "metadata": {},
   "outputs": [
    {
     "name": "stdout",
     "output_type": "stream",
     "text": [
      "Test loss: 0.03398650512099266\n",
      "Test accuracy: 0.9890999794006348\n"
     ]
    }
   ],
   "source": [
    "score = model.evaluate(x_test, y_test, verbose=0)\n",
    "print(\"Test loss:\", score[0])\n",
    "print(\"Test accuracy:\", score[1])"
   ]
  },
  {
   "cell_type": "code",
   "execution_count": 9,
   "metadata": {},
   "outputs": [],
   "source": [
    "# model.save(\"./tmp/CNNmodel9CONV\")"
   ]
  },
  {
   "cell_type": "code",
   "execution_count": 16,
   "metadata": {},
   "outputs": [
    {
     "data": {
      "image/png": "[encoded data removed]",
      "text/plain": [
       "<Figure size 432x288 with 1 Axes>"
      ]
     },
     "metadata": {
      "needs_background": "light"
     },
     "output_type": "display_data"
    },
    {
     "data": {
      "image/png": "[encoded data removed]",
      "text/plain": [
       "<Figure size 432x288 with 1 Axes>"
      ]
     },
     "metadata": {
      "needs_background": "light"
     },
     "output_type": "display_data"
    }
   ],
   "source": [
    "epochs = [i for i in range(1,16)]\n",
    "epochs_ticks = [i for i in range(1,16)]\n",
    "# Accuracy\n",
    "fig1, ax1 = plt.subplots()\n",
    "ax1.set_xticks(epochs_ticks)\n",
    "plt.plot(epochs, history_adam.history[\"accuracy\"])\n",
    "plt.plot(epochs, history_adam.history[\"val_accuracy\"])\n",
    "plt.title(\"Accuracy evolution with a CNN\")\n",
    "plt.ylabel(\"accuracy\")\n",
    "plt.xlabel(\"epochs\")\n",
    "plt.legend([\"train\", \"dev\"], loc = \"upper left\")\n",
    "plt.show()\n",
    "\n",
    "# plt.plot(history_adam.history[\"f1_metric\"])\n",
    "# plt.plot(history_adam.history[\"val_f1_metric\"])\n",
    "# plt.title(\"Model F1 score\")\n",
    "# plt.ylabel(\"F1 Score\")\n",
    "# plt.xlabel(\"epochs\")\n",
    "# plt.legend([\"train\", \"dev\"], loc = \"upper left\")\n",
    "# plt.show()\n",
    "\n",
    "# Loss\n",
    "fig3, ax3 = plt.subplots()\n",
    "ax3.set_xticks(epochs_ticks)\n",
    "plt.plot(epochs, history_adam.history[\"loss\"])\n",
    "plt.plot(epochs, history_adam.history[\"val_loss\"])\n",
    "plt.title(\"Loss evolution with an MLP\")\n",
    "plt.ylabel(\"loss\")\n",
    "plt.xlabel(\"epochs\")\n",
    "plt.legend([\"train\", \"dev\"], loc = \"upper left\")\n",
    "plt.show()"
   ]
  },
  {
   "cell_type": "code",
   "execution_count": 11,
   "metadata": {},
   "outputs": [
    {
     "name": "stdout",
     "output_type": "stream",
     "text": [
      "Before changing the weights and biases\n",
      "Test loss: 0.05048751085996628\n",
      "Test accuracy: 0.984000027179718\n"
     ]
    },
    {
     "ename": "IndexError",
     "evalue": "list index out of range",
     "output_type": "error",
     "traceback": [
      "\u001b[1;31m---------------------------------------------------------------------------\u001b[0m",
      "\u001b[1;31mIndexError\u001b[0m                                Traceback (most recent call last)",
      "\u001b[1;32mc:\\Users\\rapha\\iCloudDrive\\Documents\\vscode\\DLSpe\\KerasMNIST\\keras_CNN.ipynb Cell 11'\u001b[0m in \u001b[0;36m<cell line: 7>\u001b[1;34m()\u001b[0m\n\u001b[0;32m      <a href='vscode-notebook-cell:/c%3A/Users/rapha/iCloudDrive/Documents/vscode/DLSpe/KerasMNIST/keras_CNN.ipynb#ch0000010?line=3'>4</a>\u001b[0m \u001b[39mprint\u001b[39m(\u001b[39m\"\u001b[39m\u001b[39mTest accuracy:\u001b[39m\u001b[39m\"\u001b[39m, score[\u001b[39m1\u001b[39m])\n\u001b[0;32m      <a href='vscode-notebook-cell:/c%3A/Users/rapha/iCloudDrive/Documents/vscode/DLSpe/KerasMNIST/keras_CNN.ipynb#ch0000010?line=5'>6</a>\u001b[0m layers \u001b[39m=\u001b[39m []\n\u001b[1;32m----> <a href='vscode-notebook-cell:/c%3A/Users/rapha/iCloudDrive/Documents/vscode/DLSpe/KerasMNIST/keras_CNN.ipynb#ch0000010?line=6'>7</a>\u001b[0m \u001b[39mprint\u001b[39m(model\u001b[39m.\u001b[39;49mlayers[\u001b[39m1\u001b[39;49m]\u001b[39m.\u001b[39;49mget_weights()[\u001b[39m0\u001b[39;49m][\u001b[39m0\u001b[39m][\u001b[39m0\u001b[39m:\u001b[39m5\u001b[39m])\n\u001b[0;32m      <a href='vscode-notebook-cell:/c%3A/Users/rapha/iCloudDrive/Documents/vscode/DLSpe/KerasMNIST/keras_CNN.ipynb#ch0000010?line=7'>8</a>\u001b[0m \u001b[39mprint\u001b[39m(\u001b[39m\"\u001b[39m\u001b[39mbefore\u001b[39m\u001b[39m\"\u001b[39m)\n\u001b[0;32m      <a href='vscode-notebook-cell:/c%3A/Users/rapha/iCloudDrive/Documents/vscode/DLSpe/KerasMNIST/keras_CNN.ipynb#ch0000010?line=8'>9</a>\u001b[0m \u001b[39mfor\u001b[39;00m i \u001b[39min\u001b[39;00m \u001b[39mrange\u001b[39m(\u001b[39mlen\u001b[39m(model\u001b[39m.\u001b[39mlayers)):\n",
      "\u001b[1;31mIndexError\u001b[0m: list index out of range"
     ]
    }
   ],
   "source": [
    "score = model.evaluate(x_test, y_test, verbose=0)\n",
    "print(\"Before changing the weights and biases\")\n",
    "print(\"Test loss:\", score[0])\n",
    "print(\"Test accuracy:\", score[1])\n",
    "\n",
    "layers = []\n",
    "print(model.layers[1].get_weights()[0][0][0:5])\n",
    "print(\"before\")\n",
    "for i in range(len(model.layers)):\n",
    "    weights_biases_of_layer = model.layers[i].get_weights()\n",
    "    if i == 0:\n",
    "        continue\n",
    "    weight_matrix = weights_biases_of_layer[0]\n",
    "    bias_matrix = weights_biases_of_layer[1]\n",
    "    weights16 = weight_matrix.astype(np.float16)\n",
    "    bias16 = bias_matrix.astype(np.float16)\n",
    "    layer_weights = []\n",
    "    layer_weights.append(weights16)\n",
    "    layer_weights.append(bias16)\n",
    "    layers.append(layer_weights)\n",
    "    if i==1:\n",
    "        print(layer_weights[0][0][0:5])\n",
    "\n",
    "# print(layer_weights[0][0][0:5])\n",
    "# # model.layers[i].set_weights(layer_weights)\n",
    "# print(layer_weights[0][0][0:5])\n",
    "\n",
    "for i in range(1,len(model.layers)):\n",
    "    model.layers[i].set_weights(layers[i-1])\n",
    "\n",
    "\n",
    "# print(model.layers[1].get_weights()[0])\n",
    "# weights = np.zeros(model.layers[1].get_weights()[0].shape)\n",
    "# biases = np.zeros(model.layers[1].get_weights()[1].shape)\n",
    "# layer = []\n",
    "# layer.append(weights)\n",
    "# layer.append(biases)\n",
    "# model.layers[1].set_weights(layer)\n",
    "\n",
    "print(model.layers[1].get_weights()[0][0][0:5])\n",
    "\n",
    "# print(model.layers[1].get_weights()[0].shape)\n",
    "# print(model.layers[1].get_weights()[0][0])\n",
    "# print(model.layers[1].get_weights()[0][0].astype(np.float16))\n",
    "\n",
    "score = model.evaluate(x_test, y_test, verbose=0)\n",
    "print(\"After changing the weights and biases to float16\")\n",
    "print(\"Test loss:\", score[0])\n",
    "print(\"Test accuracy:\", score[1])\n"
   ]
  },
  {
   "cell_type": "code",
   "execution_count": null,
   "metadata": {},
   "outputs": [
    {
     "name": "stdout",
     "output_type": "stream",
     "text": [
      "[[-1.52705205 -6.19707207 -2.90604668]\n",
      " [ 3.93396562 -2.51871285 16.55104561]\n",
      " [-8.79640342  4.10214129 -0.03546301]]\n",
      "[[-1.527   -6.195   -2.906  ]\n",
      " [ 3.934   -2.52    16.55   ]\n",
      " [-8.8      4.1     -0.03546]]\n"
     ]
    }
   ],
   "source": [
    "test = np.random.randn(3,3)*10\n",
    "print(test)\n",
    "print(test.astype(np.float16))"
   ]
  },
  {
   "cell_type": "code",
   "execution_count": null,
   "metadata": {},
   "outputs": [],
   "source": [
    "# model.compile(loss=\"categorical_crossentropy\", metrics=[\"accuracy\", f1_metric])\n",
    "\n",
    "# history_gd = model.fit(x_train, y_train, batch_size=batch_size, epochs=epochs, validation_split=0.1)\n",
    "\n",
    "# model.compile(loss=\"categorical_crossentropy\", optimizer=\"SGD\", metrics=[\"accuracy\", f1_metric])\n",
    "\n",
    "# history_mom = model.fit(x_train, y_train, batch_size=batch_size, epochs=epochs, validation_split=0.1)"
   ]
  },
  {
   "cell_type": "code",
   "execution_count": null,
   "metadata": {},
   "outputs": [],
   "source": [
    "def plotGraphics(history_given, optimizer):\n",
    "    plt.plot(history_given.history[\"accuracy\"])\n",
    "    plt.plot(history_given.history[\"val_accuracy\"])\n",
    "    plt.title(\"Model with \" + optimizer +   \": Accuracy\")\n",
    "    plt.ylabel(\"accuracy\")\n",
    "    plt.xlabel(\"epochs\")\n",
    "    plt.legend([\"train\", \"dev\"], loc = \"upper left\")\n",
    "    plt.show()\n",
    "\n",
    "    plt.plot(history_given.history[\"f1_metric\"])\n",
    "    plt.plot(history_given.history[\"val_f1_metric\"])\n",
    "    plt.title(\"Model F1 score\")\n",
    "    plt.ylabel(\"F1 Score\")\n",
    "    plt.xlabel(\"epochs\")\n",
    "    plt.legend([\"train\", \"dev\"], loc = \"upper left\")\n",
    "    plt.show()\n",
    "\n",
    "    plt.plot(history_given.history[\"loss\"])\n",
    "    plt.plot(history_given.history[\"val_loss\"])\n",
    "    plt.title(\"Model Loss\")\n",
    "    plt.ylabel(\"Loss\")\n",
    "    plt.xlabel(\"epochs\")\n",
    "    plt.legend([\"train\", \"dev\"], loc = \"upper left\")\n",
    "    plt.show()"
   ]
  },
  {
   "cell_type": "code",
   "execution_count": null,
   "metadata": {},
   "outputs": [],
   "source": [
    "# plotGraphics(history_gd, \"Gradient Descent\")\n",
    "# plotGraphics(history_adam, \"Adam\")\n",
    "# plotGraphics(history_mom, \"Momentum\")"
   ]
  },
  {
   "cell_type": "code",
   "execution_count": null,
   "metadata": {},
   "outputs": [
    {
     "name": "stdout",
     "output_type": "stream",
     "text": [
      "Model: \"sequential\"\n",
      "_________________________________________________________________\n",
      " Layer (type)                Output Shape              Param #   \n",
      "=================================================================\n",
      " quantize_layer (QuantizeLay  (None, 28, 28, 1)        3         \n",
      " er)                                                             \n",
      "                                                                 \n",
      " quant_conv2d (QuantizeWrapp  (None, 26, 26, 32)       387       \n",
      " erV2)                                                           \n",
      "                                                                 \n",
      " quant_max_pooling2d (Quanti  (None, 13, 13, 32)       1         \n",
      " zeWrapperV2)                                                    \n",
      "                                                                 \n",
      " quant_conv2d_1 (QuantizeWra  (None, 11, 11, 64)       18627     \n",
      " pperV2)                                                         \n",
      "                                                                 \n",
      " quant_max_pooling2d_1 (Quan  (None, 5, 5, 64)         1         \n",
      " tizeWrapperV2)                                                  \n",
      "                                                                 \n",
      " quant_flatten (QuantizeWrap  (None, 1600)             1         \n",
      " perV2)                                                          \n",
      "                                                                 \n",
      " quant_dropout (QuantizeWrap  (None, 1600)             1         \n",
      " perV2)                                                          \n",
      "                                                                 \n",
      " quant_dense (QuantizeWrappe  (None, 10)               16015     \n",
      " rV2)                                                            \n",
      "                                                                 \n",
      "=================================================================\n",
      "Total params: 35,036\n",
      "Trainable params: 34,826\n",
      "Non-trainable params: 210\n",
      "_________________________________________________________________\n"
     ]
    }
   ],
   "source": [
    "import tensorflow_model_optimization as tfmot\n",
    "\n",
    "quantize_model = tfmot.quantization.keras.quantize_model\n",
    "\n",
    "# q_aware stands for for quantization aware.\n",
    "# using the initial model made and fine tuning it\n",
    "q_aware_model = quantize_model(model)\n",
    "\n",
    "# `quantize_model` requires a recompile.\n",
    "q_aware_model.compile(optimizer='adam',\n",
    "              loss=tf.keras.losses.CategoricalCrossentropy(from_logits=True),\n",
    "              metrics=['accuracy', f1_metric])\n",
    "\n",
    "q_aware_model.summary()"
   ]
  },
  {
   "cell_type": "code",
   "execution_count": null,
   "metadata": {},
   "outputs": [
    {
     "name": "stdout",
     "output_type": "stream",
     "text": [
      "Epoch 1/5\n",
      "71/71 [==============================] - 3s 38ms/step - loss: 0.0370 - accuracy: 0.9884 - f1_metric: 0.9886 - val_loss: 0.0207 - val_accuracy: 0.9940 - val_f1_metric: 0.9936\n",
      "Epoch 2/5\n",
      "71/71 [==============================] - 3s 36ms/step - loss: 0.0290 - accuracy: 0.9914 - f1_metric: 0.9914 - val_loss: 0.0218 - val_accuracy: 0.9930 - val_f1_metric: 0.9922\n",
      "Epoch 3/5\n",
      "71/71 [==============================] - 3s 39ms/step - loss: 0.0310 - accuracy: 0.9897 - f1_metric: 0.9896 - val_loss: 0.0244 - val_accuracy: 0.9930 - val_f1_metric: 0.9922\n",
      "Epoch 4/5\n",
      "71/71 [==============================] - 3s 39ms/step - loss: 0.0297 - accuracy: 0.9907 - f1_metric: 0.9904 - val_loss: 0.0266 - val_accuracy: 0.9910 - val_f1_metric: 0.9912\n",
      "Epoch 5/5\n",
      "71/71 [==============================] - 3s 43ms/step - loss: 0.0262 - accuracy: 0.9918 - f1_metric: 0.9916 - val_loss: 0.0258 - val_accuracy: 0.9910 - val_f1_metric: 0.9917\n"
     ]
    },
    {
     "data": {
      "text/plain": [
       "<keras.callbacks.History at 0x7fa7f111e970>"
      ]
     },
     "execution_count": 11,
     "metadata": {},
     "output_type": "execute_result"
    }
   ],
   "source": [
    "train_images_subset = x_train[0:10000] # out of 60000\n",
    "train_labels_subset = y_train[0:10000]\n",
    "\n",
    "# quantization-aware model which means we will do fine tuning by training this new model after having changed the weights and baises representation\n",
    "q_aware_model.fit(train_images_subset, train_labels_subset,\n",
    "                  batch_size=128, epochs=5, validation_split=0.1)"
   ]
  },
  {
   "cell_type": "code",
   "execution_count": null,
   "metadata": {},
   "outputs": [
    {
     "name": "stdout",
     "output_type": "stream",
     "text": [
      "Baseline test accuracy: 0.9901999831199646\n",
      "Quantized test accuracy: 0.9879999756813049\n"
     ]
    }
   ],
   "source": [
    "evaluation_basic_model = model.evaluate(\n",
    "    x_test, y_test, verbose=0)\n",
    "\n",
    "evaluation_q_model = q_aware_model.evaluate(\n",
    "   x_test, y_test, verbose=0)\n",
    "\n",
    "print('Baseline test accuracy:', evaluation_basic_model[1])\n",
    "print('Quantized test accuracy:', evaluation_q_model[1])"
   ]
  },
  {
   "cell_type": "code",
   "execution_count": null,
   "metadata": {},
   "outputs": [
    {
     "name": "stdout",
     "output_type": "stream",
     "text": [
      "[[ 0.34290493  0.55854875 -0.30646303 -0.6363894   0.02036654  0.45957482\n",
      "   0.15502532  0.07763515 -0.04157272  0.02476565  0.18095592  0.27630594\n",
      "   0.13768297  0.03411715  0.12689507  0.01090439 -0.20978925 -0.70086473\n",
      "   0.02883367 -0.24217355  0.00843705 -0.44436064  0.10103899 -0.6532718\n",
      "   0.38190174  0.061298    0.19637986  0.08345451 -0.0183505   0.17455162\n",
      "   0.27734765  0.02330555]]\n",
      "[0.0, 1.0, -1]\n"
     ]
    }
   ],
   "source": [
    "print(model.layers[0].get_weights()[0][0][0])\n",
    "print(q_aware_model.layers[0].get_weights())"
   ]
  }
 ],
 "metadata": {
  "kernelspec": {
   "display_name": "Python 3.10.2 64-bit",
   "language": "python",
   "name": "python3"
  },
  "language_info": {
   "codemirror_mode": {
    "name": "ipython",
    "version": 3
   },
   "file_extension": ".py",
   "mimetype": "text/x-python",
   "name": "python",
   "nbconvert_exporter": "python",
   "pygments_lexer": "ipython3",
   "version": "3.10.2"
  },
  "orig_nbformat": 4,
  "vscode": {
   "interpreter": {
    "hash": "438b8d175c626dc66ab93e1d243ebbf49c1b7127dc5ebb75e5a50a3421acac2b"
   }
  }
 },
 "nbformat": 4,
 "nbformat_minor": 2
}
